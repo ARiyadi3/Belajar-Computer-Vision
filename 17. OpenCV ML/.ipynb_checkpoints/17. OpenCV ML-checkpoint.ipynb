{
 "cells": [
  {
   "cell_type": "markdown",
   "metadata": {},
   "source": [
    "# OpenCV ML \n",
    "\n",
    "- Intro Machine Learning\n",
    "- Intro OpenCV ML\n",
    "- Intro SVM Algorithm\n",
    "- SVM on OpenCV ML For OCR\n"
   ]
  },
  {
   "cell_type": "markdown",
   "metadata": {},
   "source": [
    "##  Intro Machine Learning\n",
    "- The study of computer algorithms that improve automatically through experience.[1][2]\n",
    "- It is seen as a subset of **artificial intelligence**. \n",
    "- Machine learning algorithms build a **mathematical model** based on **sample data**, known as \"training data\".\n",
    "- Machine learning is closely related to **computational statistics**, which focuses on making predictions using computers. \n",
    "\n",
    "> *Machine learning provides systems the ability to **automatically learn** and **improve from experience** without being **explicitly programmed**.*\n",
    "\n",
    "![](resource/machine_learning.png)"
   ]
  },
  {
   "cell_type": "markdown",
   "metadata": {},
   "source": [
    "### Dataset\n",
    "- In the case of tabular data, a data set corresponds to one or more database **tables**, where every **column** of a table represents a particular **variable/fature**, and each row corresponds to a **instance** data. <br>\n",
    "- Tabular dataset : <br>\n",
    "<img src=\"resource/text_dataset.png\" style=\"width:400px\"></img><br>\n",
    "- Image Dataset :<br>\n",
    "<img src=\"resource/image_dataset.png\" style=\"width:500px\"></img><br><br><br>\n",
    "- Dataset Proportion :<br>\n",
    "<img src=\"resource/dataset_proportion.jpeg\" style=\"width:500px\"></img>\n",
    "    - **Training set** : is used in training phase,\n",
    "    - **Validation set** : is used for validationg model during training, for example Cross Validation.\n",
    "    - **Test set** : is used in testing phase (sftertraining model finish).\n",
    "- Common portion :\n",
    "    - Trainig set : 50%\n",
    "    - Validation set : 25%\n",
    "    - Test set : 25%\n"
   ]
  },
  {
   "cell_type": "markdown",
   "metadata": {},
   "source": [
    "### Machine Learning Algorithm\n",
    "<img src=\"resource/ml_algorithm.png\" style=\"width:500px\"></img>"
   ]
  },
  {
   "cell_type": "markdown",
   "metadata": {},
   "source": [
    "### Supervised Machine Learning\n",
    "- **Classification**: Relates to **categorical data output**, such as whether it is red or not, whether the weather is sunny or cloudy, healthy or sick.\n",
    "- **Regression**: Relates to **continuous data output**, such as length, weight, velocity\n",
    "<img src=\"resource/supervised_learning.png\" style=\"width:500px\"></img>\n",
    "- Algorithm :\n",
    "    - Support Vector Machine (SVM)\n",
    "    - Linear Regression\n",
    "    - Logistic Regression\n",
    "    - Naive Bayes\n",
    "    - Linear Discriminant Analysis (LDA)\n",
    "    - Decision Tree\n",
    "    - K-nearest Neighbor\n",
    "    - Neural Network (Multilayer Perceptron)\n",
    "    - Similarity Learning\n",
    "    - Etc.\n"
   ]
  },
  {
   "cell_type": "markdown",
   "metadata": {},
   "source": [
    "___\n",
    "## Intro OpenCV ML \n",
    "- Main Doc : https://docs.opencv.org/master/dc/dd6/ml_intro.html\n",
    "- List of Machine Learning Algorithm on OpenCV ML :\n",
    "    - Normal Bayes Classifier\n",
    "    - K-Nearest Neighbors (KNN)\n",
    "    - Support Vector Machines (SVM)\n",
    "    - Decision Trees\n",
    "    - Variable Importance\n",
    "    - Boosting\n",
    "    - Random Trees\n",
    "    - Expectation Maximization\n",
    "    - Neural Networks\n",
    "    - Logistic Regression"
   ]
  },
  {
   "cell_type": "markdown",
   "metadata": {},
   "source": [
    "### Support Vector Machines\n",
    "- Are supervised learning models with associated learning algorithms that analyze data used for **classification** and **regression analysis**.\n",
    "- Support Vector Machines is a **discriminative classifier** formally defined by a **separating hyperplane**. In other words, given labeled training data (supervised learning), the algorithm outputs an **optimal hyperplane** which categorizes new examples.\n",
    "- Developed at AT&T Bell Laboratories by Vapnik with colleagues (Boser et al., 1992, Guyon et al., 1993, Vapnik et al., 1997).\n",
    "- One of the most robust prediction methods, based on the statistical learning framework or VC theory proposed by Vapnik and Chervonenkis (1974) and Vapnik (1982, 1995).\n",
    "\n",
    "#### Linearly Separable Data\n",
    "- H1 does not separate the classes. \n",
    "- H2 does, but only with a small margin. \n",
    "- H3 separates them with the **maximal margin**.<br>\n",
    "\n",
    "<img src=\"resource/lineary_sparable.png\" style=\"width:250px\"></img>\n",
    "\n",
    "- **Maximum-margin hyperplane** and **margins** for an SVM trained with samples from two classes. \n",
    "- Samples on the margin are called the **support vectors**. <br>\n",
    "<img src=\"resource/SVM_margin.png\" style=\"width:250px\"></img>\n",
    "- Multiclass Dataset :<br>\n",
    "<img src=\"resource/multicalss_svm.png\" style=\"width:500px\"></img>\n"
   ]
  },
  {
   "cell_type": "markdown",
   "metadata": {},
   "source": [
    "## SVM using OpenCV ML"
   ]
  },
  {
   "cell_type": "code",
   "execution_count": 1,
   "metadata": {},
   "outputs": [],
   "source": [
    "import cv2 \n",
    "import numpy as np\n",
    "import matplotlib.pyplot as plt\n",
    "import os"
   ]
  },
  {
   "cell_type": "markdown",
   "metadata": {},
   "source": [
    "- setup dataset\n",
    "    - x_train : input data (4 samples , 2 feature data )\n",
    "    - y_train : output data"
   ]
  },
  {
   "cell_type": "code",
   "execution_count": 78,
   "metadata": {},
   "outputs": [],
   "source": [
    "x_train = np.array([[8, 8], \n",
    "                    [2, 8], \n",
    "                    [8, 2], \n",
    "                    [2, 2]], dtype=np.float32)\n",
    "\n",
    "y_train = np.array([ 1, \n",
    "                     0, \n",
    "                     0, \n",
    "                     2])"
   ]
  },
  {
   "cell_type": "code",
   "execution_count": 79,
   "metadata": {},
   "outputs": [
    {
     "data": {
      "text/plain": [
       "<matplotlib.collections.PathCollection at 0x2949a9f5eb0>"
      ]
     },
     "execution_count": 79,
     "metadata": {},
     "output_type": "execute_result"
    },
    {
     "data": {
      "image/png": "[encoded data removed]",
      "text/plain": [
       "<Figure size 432x288 with 1 Axes>"
      ]
     },
     "metadata": {
      "needs_background": "light"
     },
     "output_type": "display_data"
    }
   ],
   "source": [
    "plt.scatter(x_train[:, 0], x_train[:, 1], c=y_train, s=200, cmap='rainbow')"
   ]
  },
  {
   "cell_type": "markdown",
   "metadata": {},
   "source": [
    "- Load SVM Model from OpenCV ML"
   ]
  },
  {
   "cell_type": "code",
   "execution_count": 100,
   "metadata": {},
   "outputs": [],
   "source": [
    "svm = cv2.ml.SVM_create()\n",
    "svm.setType(cv2.ml.SVM_C_SVC)\n",
    "svm.setKernel(cv2.ml.SVM_LINEAR)\n",
    "svm.setTermCriteria((cv2.TERM_CRITERIA_MAX_ITER, 100, 1000))"
   ]
  },
  {
   "cell_type": "markdown",
   "metadata": {},
   "source": [
    "- `cv.ml.SVM_create()` : create empty model SVM\n",
    "- method `.setType(svm_type)` :\n",
    "- where `svm_type` :\n",
    "    - `cv2.ml.SVM_C_SVC` : C-Support Vector Classification. n-class classification (n ≥ 2), allows imperfect separation of classes.\n",
    "    - `cv2.ml.SVM_NU_SVC` : ν-Support Vector Classification. n-class classification with possible imperfect separation. Parameter ν (0..1).\n",
    "    - `cv2.ml.SVM_ONE_CLASS` : Distribution Estimation (One-class SVM). \n",
    "    - `cv2.ml.SVM_EPS_SVR` : ϵ-Support Vector Regression. \n",
    "    - `cv2.ml.SVM_NU_SVR` : ν-Support Vector Regression. \n",
    "- method `.setKernel(kernel_type)` :\n",
    "- where `kernel_type` :\n",
    "    - `cv2.ml.SVM_CUSTOM` : Custom kernel\n",
    "    - `cv2.ml.SVM_LINEAR` : Linear kernel, It is the fastest option\n",
    "    - `cv2.ml.SVM_POLY` : Polynomial kernel\n",
    "    - `cv2.ml.SVM_RBF` : Radial basis function (RBF), a good choice in most cases\n",
    "    - `cv2.ml.SVM_SIGMOID` : Sigmoid kerne\n",
    "    - `cv2.ml.SVM_CHI2` : Exponential Chi2 kernel, similar to the RBF kernel\n",
    "    - `cv2.ml.SVM_INTER` : Histogram intersection kernel. A fast kernel\n",
    "- method `.setTermCriteria(criteria_type, maxCount, epsilon)` :\n",
    "- where `criteria_type` :\n",
    "    - `cv2.TERM_CRITERIA_COUNT` : the maximum number of iterations or elements to compute\n",
    "    - `cv2.TERM_CRITERIA_MAX_ITER` \n",
    "    - `cv2.TERM_CRITERIA_EPS` : the desired accuracy or change in parameters at which the iterative algorithm stops"
   ]
  },
  {
   "cell_type": "markdown",
   "metadata": {},
   "source": [
    "- The value of **epsilon** defines a **margin** of tolerance where no penalty is given to errors\n",
    "- The larger **epsilon** is the larger errors \n",
    "\n",
    "![](resource/epsilon_svmjpg.jpg)"
   ]
  },
  {
   "cell_type": "markdown",
   "metadata": {},
   "source": [
    "- Train SVM"
   ]
  },
  {
   "cell_type": "code",
   "execution_count": 101,
   "metadata": {},
   "outputs": [
    {
     "data": {
      "text/plain": [
       "True"
      ]
     },
     "execution_count": 101,
     "metadata": {},
     "output_type": "execute_result"
    }
   ],
   "source": [
    "svm.train(x_train, cv2.ml.ROW_SAMPLE, y_train)"
   ]
  },
  {
   "cell_type": "markdown",
   "metadata": {},
   "source": [
    "- predict result"
   ]
  },
  {
   "cell_type": "code",
   "execution_count": 102,
   "metadata": {},
   "outputs": [],
   "source": [
    "width = 10\n",
    "height = 10\n",
    "\n",
    "plot_x = []\n",
    "plot_y = []\n",
    "for i in range(width):\n",
    "    for j in range(height):\n",
    "        y = svm.predict(np.array([[i,j]], dtype=np.float32))[1]\n",
    "        plot_y.append(y)\n",
    "        plot_x.append([i,j])"
   ]
  },
  {
   "cell_type": "code",
   "execution_count": 103,
   "metadata": {},
   "outputs": [],
   "source": [
    "plot_x = np.array(plot_x)\n",
    "plot_y = np.array(plot_y, dtype=np.float32)"
   ]
  },
  {
   "cell_type": "code",
   "execution_count": 104,
   "metadata": {},
   "outputs": [
    {
     "data": {
      "text/plain": [
       "<matplotlib.collections.PathCollection at 0x2949aba8130>"
      ]
     },
     "execution_count": 104,
     "metadata": {},
     "output_type": "execute_result"
    },
    {
     "data": {
      "image/png": "[encoded data removed]",
      "text/plain": [
       "<Figure size 432x288 with 1 Axes>"
      ]
     },
     "metadata": {
      "needs_background": "light"
     },
     "output_type": "display_data"
    }
   ],
   "source": [
    "plt.scatter(plot_x[:, 0], plot_x[:, 1], c=plot_y, s=200, cmap='rainbow')"
   ]
  },
  {
   "cell_type": "markdown",
   "metadata": {},
   "source": [
    "___"
   ]
  },
  {
   "cell_type": "markdown",
   "metadata": {},
   "source": [
    "# OpenCV ML SVM for OCR"
   ]
  },
  {
   "cell_type": "markdown",
   "metadata": {},
   "source": [
    "- Install library **Scikit-Learn** : <br>\n",
    "`conda install scikit-learn`"
   ]
  },
  {
   "cell_type": "code",
   "execution_count": null,
   "metadata": {},
   "outputs": [],
   "source": [
    "!conda install scikit-learn"
   ]
  },
  {
   "cell_type": "markdown",
   "metadata": {},
   "source": [
    "### Image Augmentation \n",
    "- Image augmentation is one useful technique that can **increase** the size of the **training set**, **without** acquiring **new images**."
   ]
  },
  {
   "cell_type": "code",
   "execution_count": 2,
   "metadata": {},
   "outputs": [],
   "source": [
    "def img_augmentation(img):\n",
    "    kernel = np.ones((3,3),np.uint8)\n",
    "    kernel2D = np.array([[-1,-1,-1], [-1,9,-1], [-1,-1,-1]])\n",
    "    h, w = img.shape\n",
    "    center = (w // 2, h // 2)\n",
    "    M05a = cv2.getRotationMatrix2D(center, 5, 1.0)\n",
    "    M05b = cv2.getRotationMatrix2D(center, -5, 1.0)\n",
    "    Mr = np.float32([[1, 0, 2], [0, 1, 0]])\n",
    "    Ml = np.float32([[1, 0, -2], [0, 1, 0]])\n",
    "    Mr3 = np.float32([[1, 0, 3], [0, 1, 0]])\n",
    "    Ml3 = np.float32([[1, 0, -3], [0, 1, 0]])\n",
    "    \n",
    "    img_blur = cv2.GaussianBlur(img,(3,3),0)\n",
    "    img_closing = cv2.morphologyEx(img, cv2.MORPH_OPEN, kernel)\n",
    "    img_erode = cv2.erode(img, kernel)\n",
    "    img_tr_r = cv2.warpAffine(img, Mr, (w, h), borderValue=(255,255,255))\n",
    "    img_tr_l = cv2.warpAffine(img, Ml, (w, h), borderValue=(255,255,255))\n",
    "    img_tr_r3 = cv2.warpAffine(img, Mr3, (w, h), borderValue=(255,255,255))\n",
    "    img_tr_l3 = cv2.warpAffine(img, Ml3, (w, h), borderValue=(255,255,255))\n",
    "    img_rot5a = cv2.warpAffine(img, M05a, (w, h), borderValue=(255,255,255))\n",
    "    img_rot5b = cv2.warpAffine(img, M05b, (w, h), borderValue=(255,255,255))\n",
    "    \n",
    "    return[img, img_blur, img_closing, img_erode, img_rot5a, img_rot5b, img_tr_r, img_tr_l, img_tr_r3, img_tr_l3]"
   ]
  },
  {
   "cell_type": "code",
   "execution_count": 3,
   "metadata": {},
   "outputs": [],
   "source": [
    "img = cv2.imread(\"char_dataset/0/0_0.jpg\")\n",
    "gray = cv2.cvtColor(img, cv2.COLOR_BGR2GRAY)"
   ]
  },
  {
   "cell_type": "code",
   "execution_count": 4,
   "metadata": {},
   "outputs": [],
   "source": [
    "imgs = img_augmentation(gray)"
   ]
  },
  {
   "cell_type": "code",
   "execution_count": 5,
   "metadata": {},
   "outputs": [
    {
     "data": {
      "text/plain": [
       "10"
      ]
     },
     "execution_count": 5,
     "metadata": {},
     "output_type": "execute_result"
    }
   ],
   "source": [
    "len(imgs)"
   ]
  },
  {
   "cell_type": "code",
   "execution_count": 6,
   "metadata": {},
   "outputs": [],
   "source": [
    "for i, img in enumerate(imgs):\n",
    "    cv2.imshow(\"char augmented - %d\" % i, img)\n",
    "cv2.waitKey(0)\n",
    "cv2.destroyAllWindows()"
   ]
  },
  {
   "cell_type": "markdown",
   "metadata": {},
   "source": [
    "### Deskewing & HOG\n",
    "\n",
    "- HOG :\n",
    "    - **Feature Descriptor** is a representation of an image or an image patch that simplifies the image by extracting **useful information**.\n",
    "    - Typically, a feature descriptor converts an image of size width x height x 3 (channels ) to a **feature vector** / **array** of length `n`.\n",
    "    - Where `n` could be **width x height x channel** on original image.\n",
    "    - The **feature vector** produced by **HOG algorithms** when fed into an image classification algorithms like Support Vector Machine (SVM) **produce good results**.\n",
    "- HOG Algorithm :\n",
    "     - Calculate the Gradient Images :\n",
    "         - Sobel Operator (`cv2.Sobel()`): Using the sobel operation, you can detect the edges of an image in both horizontal and vertical directions \n",
    "     - Find the magnitude ($g$) and direction ($\\theta$) of gradient :\n",
    "         - Using `cv2.cartToPolar(x,y)` : transform cartesian to polar image."
   ]
  },
  {
   "cell_type": "code",
   "execution_count": 5,
   "metadata": {},
   "outputs": [],
   "source": [
    "SZ=20\n",
    "bin_n = 16\n",
    "\n",
    "affine_flags = cv2.WARP_INVERSE_MAP|cv2.INTER_LINEAR\n",
    "\n",
    "def deskew(img):\n",
    "    m = cv2.moments(img)\n",
    "    if abs(m['mu02']) < 1e-2:\n",
    "        return img.copy()\n",
    "    skew = m['mu11']/m['mu02']\n",
    "    M = np.float32([[1, skew, -0.5*SZ*skew], [0, 1, 0]])\n",
    "    img = cv2.warpAffine(img,M,(SZ, SZ),flags=affine_flags)\n",
    "    return img\n",
    "\n",
    "\n",
    "def hog(img):\n",
    "    gx = cv2.Sobel(img, cv2.CV_32F, 1, 0)\n",
    "    gy = cv2.Sobel(img, cv2.CV_32F, 0, 1)\n",
    "    mag, ang = cv2.cartToPolar(gx, gy)\n",
    "\n",
    "    # quantizing binvalues in (0...16)\n",
    "    bins = np.int32(bin_n*ang/(2*np.pi))   \n",
    "    bin_cells = bins[:10,:10], bins[10:,:10], bins[:10,10:], bins[10:,10:]\n",
    "    mag_cells = mag[:10,:10], mag[10:,:10], mag[:10,10:], mag[10:,10:]\n",
    "    hists = [np.bincount(b.ravel(), m.ravel(), bin_n) for b, m in zip(bin_cells, mag_cells)]\n",
    "    hist = np.hstack(hists)   \n",
    "    return hist"
   ]
  },
  {
   "cell_type": "markdown",
   "metadata": {},
   "source": [
    "- Deskewing (deskew the image using its second order moments)"
   ]
  },
  {
   "cell_type": "code",
   "execution_count": 6,
   "metadata": {},
   "outputs": [
    {
     "data": {
      "text/plain": [
       "<matplotlib.image.AxesImage at 0x244db092bb0>"
      ]
     },
     "execution_count": 6,
     "metadata": {},
     "output_type": "execute_result"
    },
    {
     "data": {
      "image/png": "[encoded data removed]",
      "text/plain": [
       "<Figure size 432x288 with 1 Axes>"
      ]
     },
     "metadata": {
      "needs_background": "light"
     },
     "output_type": "display_data"
    }
   ],
   "source": [
    "img = cv2.imread(\"char_dataset/0/0_8.jpg\")\n",
    "gray = cv2.cvtColor(img, cv2.COLOR_BGR2GRAY)\n",
    "gray = cv2.bitwise_not(gray)\n",
    "\n",
    "# h, w= gray.shape\n",
    "# center = (w // 2, h // 2)\n",
    "# M = cv2.getRotationMatrix2D(center, -10, 1.0)\n",
    "# gray_rot = cv2.warpAffine(gray, M, (w, h), borderValue=(180,180,180))\n",
    "\n",
    "plt.imshow(gray, cmap=\"jet\")"
   ]
  },
  {
   "cell_type": "code",
   "execution_count": 10,
   "metadata": {},
   "outputs": [
    {
     "data": {
      "text/plain": [
       "<matplotlib.image.AxesImage at 0x26de9136310>"
      ]
     },
     "execution_count": 10,
     "metadata": {},
     "output_type": "execute_result"
    },
    {
     "data": {
      "image/png": "[encoded data removed]",
      "text/plain": [
       "<Figure size 432x288 with 1 Axes>"
      ]
     },
     "metadata": {
      "needs_background": "light"
     },
     "output_type": "display_data"
    }
   ],
   "source": [
    "deskew_img = deskew(gray)\n",
    "\n",
    "plt.imshow(deskew_img, cmap=\"jet\")"
   ]
  },
  {
   "cell_type": "markdown",
   "metadata": {},
   "source": [
    "- HOG"
   ]
  },
  {
   "cell_type": "code",
   "execution_count": 11,
   "metadata": {},
   "outputs": [],
   "source": [
    "hog_img = hog(deskew_img)"
   ]
  },
  {
   "cell_type": "code",
   "execution_count": 12,
   "metadata": {},
   "outputs": [
    {
     "data": {
      "text/plain": [
       "(64,)"
      ]
     },
     "execution_count": 12,
     "metadata": {},
     "output_type": "execute_result"
    }
   ],
   "source": [
    "hog_img.shape"
   ]
  },
  {
   "cell_type": "code",
   "execution_count": 13,
   "metadata": {},
   "outputs": [
    {
     "data": {
      "text/plain": [
       "array([2.62988438e+03, 2.86358883e+03, 6.26424395e+03, 1.66127856e+03,\n",
       "       1.97800003e+03, 4.86023254e+01, 7.61449051e+01, 1.59145849e+03,\n",
       "       6.38178850e+03, 5.67667695e+03, 2.60054466e+03, 3.23240637e+03,\n",
       "       1.56323627e+03, 7.21110249e+00, 0.00000000e+00, 0.00000000e+00,\n",
       "       1.91400000e+03, 1.43716314e+01, 5.83095169e+00, 1.45003448e+02,\n",
       "       5.35135443e+03, 2.19399243e+03, 5.62150232e+03, 2.39565266e+03,\n",
       "       5.73361590e+03, 0.00000000e+00, 1.58134279e+01, 0.00000000e+00,\n",
       "       4.49572542e+03, 4.87648077e+03, 2.76440298e+03, 1.10934386e+03,\n",
       "       3.54483767e+03, 5.93632851e+01, 2.18284431e+01, 0.00000000e+00,\n",
       "       3.37499155e+03, 5.72409866e+03, 3.60894306e+03, 2.18881607e+03,\n",
       "       2.05129822e+03, 0.00000000e+00, 4.47213602e+00, 1.50905510e+03,\n",
       "       3.23600796e+03, 2.68573018e+03, 5.47980527e+03, 4.43947574e+03,\n",
       "       7.80985947e+03, 4.73584986e+03, 2.79212537e+03, 4.22227502e+03,\n",
       "       1.91133835e+02, 0.00000000e+00, 1.06898578e+02, 0.00000000e+00,\n",
       "       3.76153670e+03, 3.84429285e+03, 5.93160293e+03, 1.74688605e+03,\n",
       "       1.65632454e+03, 1.20879097e+01, 5.13085260e+01, 5.84661204e+02])"
      ]
     },
     "execution_count": 13,
     "metadata": {},
     "output_type": "execute_result"
    }
   ],
   "source": [
    "hog_img"
   ]
  },
  {
   "cell_type": "markdown",
   "metadata": {},
   "source": [
    "- Load Dataset"
   ]
  },
  {
   "cell_type": "code",
   "execution_count": 7,
   "metadata": {},
   "outputs": [
    {
     "name": "stdout",
     "output_type": "stream",
     "text": [
      "Label ['0', '1', '2', '3', '4', '5', '6', '7', '8', '9', 'A', 'B', 'C', 'D', 'E', 'F', 'G', 'H', 'J', 'K', 'L', 'M', 'N', 'P', 'Q', 'R', 'S', 'T', 'U', 'V', 'X', 'Y', 'Z']\n",
      "Number of Class  33\n"
     ]
    }
   ],
   "source": [
    "dataset = \"char_dataset\"\n",
    "\n",
    "label = []\n",
    "for folder in os.listdir(dataset):\n",
    "    label.append(folder)\n",
    "print(\"Label\" , label)\n",
    "print(\"Number of Class \", len(label))"
   ]
  },
  {
   "cell_type": "code",
   "execution_count": 10,
   "metadata": {},
   "outputs": [],
   "source": [
    "image_vec = []\n",
    "target_data = []\n",
    "for folder in os.listdir(dataset):\n",
    "    for filename in os.listdir(dataset + \"/\" + folder)[:10]:\n",
    "        if filename.find('.jpg') < 0 :\n",
    "            continue\n",
    "        img = cv2.imread(dataset + \"/\" + folder + \"/\" + filename, 0)\n",
    "        for img in img_augmentation(img):\n",
    "            img_hog = hog(deskew(img))\n",
    "            image_vec.append(img_hog)\n",
    "            idx = label.index(folder)\n",
    "            target_data.append(idx)"
   ]
  },
  {
   "cell_type": "code",
   "execution_count": 11,
   "metadata": {},
   "outputs": [
    {
     "data": {
      "text/plain": [
       "3300"
      ]
     },
     "execution_count": 11,
     "metadata": {},
     "output_type": "execute_result"
    }
   ],
   "source": [
    "len(image_vec)"
   ]
  },
  {
   "cell_type": "markdown",
   "metadata": {},
   "source": [
    "- convert data to numpy array"
   ]
  },
  {
   "cell_type": "code",
   "execution_count": 24,
   "metadata": {},
   "outputs": [
    {
     "data": {
      "text/plain": [
       "(64,)"
      ]
     },
     "execution_count": 24,
     "metadata": {},
     "output_type": "execute_result"
    }
   ],
   "source": [
    "image_vec[0].shape"
   ]
  },
  {
   "cell_type": "code",
   "execution_count": 28,
   "metadata": {},
   "outputs": [
    {
     "data": {
      "text/plain": [
       "array([[2532.77904129,  744.54157066, 1225.74232483, 1477.24723053,\n",
       "         928.63114738,   27.45906067,  176.26591301, 1375.43793488,\n",
       "        1083.20093918,  831.21136093, 1127.39437866,  912.72621155,\n",
       "         597.04537582,   93.60606003,  100.4527626 , 2859.9622612 ,\n",
       "         490.20797443,   58.26263857,   33.83262348,    0.        ,\n",
       "        1382.64667511, 1647.45052528,  936.05151367, 1784.80713463,\n",
       "        1460.21943283,    0.        ,    0.        ,    0.        ,\n",
       "        1467.8324585 , 1662.7539978 ,  427.34215927, 4998.39193916,\n",
       "        1259.57369995,   38.31312418,    0.        ,  395.72781372,\n",
       "        2237.19699478,  902.21229553,  794.69458866, 4028.88600349,\n",
       "        1247.97488022,   17.49285698,   10.29563046,    0.        ,\n",
       "        1200.51207161, 1496.30653381,  822.62758923, 1021.60772753,\n",
       "        1440.69600058,  435.07816505, 1933.03538227, 1113.32161713,\n",
       "         916.00000191,    0.        ,   14.76482391, 4491.79275703,\n",
       "         980.46135807,  831.78697968, 1361.09837341, 2459.6967144 ,\n",
       "         142.09975052,    8.60232544,   10.29563046,  917.17495728]])"
      ]
     },
     "execution_count": 28,
     "metadata": {},
     "output_type": "execute_result"
    }
   ],
   "source": [
    "image_vec[0].reshape(-1,64)"
   ]
  },
  {
   "cell_type": "code",
   "execution_count": 12,
   "metadata": {},
   "outputs": [
    {
     "data": {
      "text/plain": [
       "((3300, 64), (3300,))"
      ]
     },
     "execution_count": 12,
     "metadata": {},
     "output_type": "execute_result"
    }
   ],
   "source": [
    "x = np.float32(image_vec).reshape(-1,64)\n",
    "y = np.array(target_data)\n",
    "\n",
    "x.shape, y.shape"
   ]
  },
  {
   "cell_type": "markdown",
   "metadata": {},
   "source": [
    "- Split Dataset"
   ]
  },
  {
   "cell_type": "code",
   "execution_count": 13,
   "metadata": {},
   "outputs": [
    {
     "data": {
      "text/plain": [
       "((1650, 64), (1650, 64), (1650,), (1650,))"
      ]
     },
     "execution_count": 13,
     "metadata": {},
     "output_type": "execute_result"
    }
   ],
   "source": [
    "from sklearn.model_selection import train_test_split\n",
    "\n",
    "x_train, x_test, y_train, y_test = train_test_split(x, y, test_size=0.5, random_state=42)\n",
    "\n",
    "x_train.shape, x_test.shape, y_train.shape, y_test.shape"
   ]
  },
  {
   "cell_type": "markdown",
   "metadata": {},
   "source": [
    "- Train Model"
   ]
  },
  {
   "cell_type": "code",
   "execution_count": 14,
   "metadata": {},
   "outputs": [],
   "source": [
    "# setup SVM model\n",
    "svm = cv2.ml.SVM_create()\n",
    "svm.setKernel(cv2.ml.SVM_LINEAR)\n",
    "svm.setType(cv2.ml.SVM_C_SVC)\n",
    "svm.setC(2.67)\n",
    "svm.setGamma(5.383)"
   ]
  },
  {
   "cell_type": "code",
   "execution_count": 15,
   "metadata": {},
   "outputs": [
    {
     "data": {
      "text/plain": [
       "True"
      ]
     },
     "execution_count": 15,
     "metadata": {},
     "output_type": "execute_result"
    }
   ],
   "source": [
    "# do train\n",
    "svm.train(x_train, cv2.ml.ROW_SAMPLE, y_train)"
   ]
  },
  {
   "cell_type": "markdown",
   "metadata": {},
   "source": [
    "- Save model"
   ]
  },
  {
   "cell_type": "code",
   "execution_count": 16,
   "metadata": {},
   "outputs": [],
   "source": [
    "svm.save('svm_data.dat')"
   ]
  },
  {
   "cell_type": "markdown",
   "metadata": {},
   "source": [
    "- Apply Prediction for test dataset"
   ]
  },
  {
   "cell_type": "code",
   "execution_count": 17,
   "metadata": {},
   "outputs": [],
   "source": [
    "y_predict = svm.predict(x_test)[1]"
   ]
  },
  {
   "cell_type": "markdown",
   "metadata": {},
   "source": [
    "- Evaluate Test Result"
   ]
  },
  {
   "cell_type": "code",
   "execution_count": 18,
   "metadata": {},
   "outputs": [
    {
     "name": "stdout",
     "output_type": "stream",
     "text": [
      "accuracy : 98.36\n"
     ]
    }
   ],
   "source": [
    "mask = y_predict.T[0]==y_test\n",
    "correct = np.count_nonzero(mask)\n",
    "accuracy = correct*100.0/y_predict.size\n",
    "print(\"accuracy : %.2f\" % accuracy)"
   ]
  },
  {
   "cell_type": "markdown",
   "metadata": {},
   "source": [
    "- Evaluate using **Scikit-Learn**"
   ]
  },
  {
   "cell_type": "code",
   "execution_count": 19,
   "metadata": {},
   "outputs": [
    {
     "name": "stdout",
     "output_type": "stream",
     "text": [
      "              precision    recall  f1-score   support\n",
      "\n",
      "           0       0.85      0.92      0.88        49\n",
      "           1       0.98      0.96      0.97        52\n",
      "           2       1.00      0.98      0.99        58\n",
      "           3       1.00      1.00      1.00        47\n",
      "           4       0.93      0.98      0.96        55\n",
      "           5       1.00      1.00      1.00        55\n",
      "           6       0.98      1.00      0.99        49\n",
      "           7       1.00      1.00      1.00        45\n",
      "           8       1.00      0.98      0.99        52\n",
      "           9       1.00      1.00      1.00        44\n",
      "           A       0.98      0.95      0.96        57\n",
      "           B       0.98      1.00      0.99        45\n",
      "           C       1.00      0.96      0.98        52\n",
      "           D       0.89      0.98      0.93        50\n",
      "           E       1.00      1.00      1.00        57\n",
      "           F       1.00      1.00      1.00        51\n",
      "           G       1.00      1.00      1.00        50\n",
      "           H       1.00      1.00      1.00        52\n",
      "           J       0.98      0.96      0.97        51\n",
      "           K       1.00      1.00      1.00        47\n",
      "           L       0.96      1.00      0.98        43\n",
      "           M       1.00      1.00      1.00        41\n",
      "           N       1.00      1.00      1.00        48\n",
      "           P       1.00      1.00      1.00        51\n",
      "           Q       1.00      0.89      0.94        54\n",
      "           R       1.00      0.98      0.99        48\n",
      "           S       1.00      1.00      1.00        59\n",
      "           T       1.00      0.98      0.99        41\n",
      "           U       0.96      0.96      0.96        50\n",
      "           V       1.00      1.00      1.00        49\n",
      "           X       1.00      1.00      1.00        50\n",
      "           Y       1.00      1.00      1.00        51\n",
      "           Z       1.00      1.00      1.00        47\n",
      "\n",
      "    accuracy                           0.98      1650\n",
      "   macro avg       0.98      0.98      0.98      1650\n",
      "weighted avg       0.98      0.98      0.98      1650\n",
      "\n"
     ]
    }
   ],
   "source": [
    "from sklearn.metrics import classification_report\n",
    "\n",
    "print(classification_report(y_test, y_predict, target_names=label))"
   ]
  },
  {
   "cell_type": "markdown",
   "metadata": {},
   "source": [
    "<img src=\"resource/prec_rec_2.png\" style=\"width:700px\"></img>"
   ]
  },
  {
   "cell_type": "markdown",
   "metadata": {},
   "source": [
    "___"
   ]
  },
  {
   "cell_type": "markdown",
   "metadata": {},
   "source": [
    "## Compare Train Result SVM Model Using Scikit-Learn"
   ]
  },
  {
   "cell_type": "code",
   "execution_count": 20,
   "metadata": {},
   "outputs": [],
   "source": [
    "from sklearn.model_selection import train_test_split\n",
    "from sklearn.model_selection import GridSearchCV\n",
    "from sklearn.svm import SVC"
   ]
  },
  {
   "cell_type": "code",
   "execution_count": 21,
   "metadata": {},
   "outputs": [],
   "source": [
    "param_grid = {'C': [2.67],\n",
    "              'gamma': [5.383], }\n",
    "clf = GridSearchCV(SVC(kernel='linear', class_weight='balanced'), param_grid)\n",
    "clf = clf.fit(x_train, y_train)"
   ]
  },
  {
   "cell_type": "code",
   "execution_count": 22,
   "metadata": {},
   "outputs": [
    {
     "name": "stdout",
     "output_type": "stream",
     "text": [
      "              precision    recall  f1-score   support\n",
      "\n",
      "           0       0.85      0.92      0.88        49\n",
      "           1       0.98      0.96      0.97        52\n",
      "           2       1.00      0.98      0.99        58\n",
      "           3       1.00      1.00      1.00        47\n",
      "           4       0.93      0.98      0.96        55\n",
      "           5       1.00      1.00      1.00        55\n",
      "           6       0.98      1.00      0.99        49\n",
      "           7       1.00      1.00      1.00        45\n",
      "           8       1.00      0.98      0.99        52\n",
      "           9       1.00      1.00      1.00        44\n",
      "           A       0.98      0.95      0.96        57\n",
      "           B       0.98      1.00      0.99        45\n",
      "           C       1.00      0.96      0.98        52\n",
      "           D       0.89      0.98      0.93        50\n",
      "           E       1.00      1.00      1.00        57\n",
      "           F       1.00      1.00      1.00        51\n",
      "           G       1.00      1.00      1.00        50\n",
      "           H       1.00      1.00      1.00        52\n",
      "           J       0.98      0.96      0.97        51\n",
      "           K       1.00      1.00      1.00        47\n",
      "           L       0.96      1.00      0.98        43\n",
      "           M       1.00      1.00      1.00        41\n",
      "           N       1.00      1.00      1.00        48\n",
      "           P       1.00      1.00      1.00        51\n",
      "           Q       1.00      0.89      0.94        54\n",
      "           R       1.00      0.98      0.99        48\n",
      "           S       1.00      1.00      1.00        59\n",
      "           T       1.00      0.98      0.99        41\n",
      "           U       0.96      0.96      0.96        50\n",
      "           V       1.00      1.00      1.00        49\n",
      "           X       1.00      1.00      1.00        50\n",
      "           Y       1.00      1.00      1.00        51\n",
      "           Z       1.00      1.00      1.00        47\n",
      "\n",
      "    accuracy                           0.98      1650\n",
      "   macro avg       0.98      0.98      0.98      1650\n",
      "weighted avg       0.98      0.98      0.98      1650\n",
      "\n"
     ]
    }
   ],
   "source": [
    "y_pred = clf.predict(x_test)\n",
    "\n",
    "print(classification_report(y_test, y_pred, target_names=label))"
   ]
  },
  {
   "cell_type": "markdown",
   "metadata": {},
   "source": [
    "___"
   ]
  },
  {
   "cell_type": "markdown",
   "metadata": {},
   "source": [
    "# Apply Model to Plate Number"
   ]
  },
  {
   "cell_type": "code",
   "execution_count": 23,
   "metadata": {},
   "outputs": [],
   "source": [
    "def drawPred(frame, label, left, top, right, bottom):\n",
    "    cv2.rectangle(frame, (left, top), (right, bottom), (255, 0, 255), 2)\n",
    "\n",
    "    labelSize, baseLine = cv2.getTextSize(label, cv2.FONT_HERSHEY_SIMPLEX, 0.5, 1)\n",
    "    top = max(top, labelSize[1])\n",
    "    cv2.rectangle(frame, (left, top - round(1.5*labelSize[1])), \n",
    "                         (max(right, left + labelSize[0]), top + baseLine), (255, 0, 255), -1)\n",
    "    \n",
    "    cv2.putText(frame, label, (left, top), cv2.FONT_HERSHEY_SIMPLEX, 0.50, (255, 255, 255), 1)\n",
    "    return frame"
   ]
  },
  {
   "cell_type": "code",
   "execution_count": 48,
   "metadata": {},
   "outputs": [],
   "source": [
    "def preprocessing(img, h1, h2):\n",
    "    # get roi & resize \n",
    "    h, w, c = img.shape\n",
    "    y1, y2, x1, x2 = int(h1), int(h2), int(w*0.30), int(w*0.70)\n",
    "    roi = img[y1:y2, x1:x2]\n",
    "    scale = 300/roi.shape[0]\n",
    "    roi = cv2.resize(roi, (0,0), fx=scale, fy=scale)\n",
    "    \n",
    "    #convert to gray -> binary\n",
    "    gray = cv2.cvtColor(roi, cv2.COLOR_BGR2GRAY)\n",
    "    __, thresh = cv2.threshold(gray, 0, 255, cv2.THRESH_BINARY + cv2.THRESH_OTSU)\n",
    "    return thresh, roi, [x1, y1, x2, y2], scale\n",
    "    \n",
    "def get_contours(thresh):\n",
    "    contours, hierarchy = cv2.findContours(thresh, cv2.RETR_EXTERNAL, cv2.CHAIN_APPROX_SIMPLE)\n",
    "    h, w, c = img.shape\n",
    "    size = h*w\n",
    "    contours = [cc for i, cc in enumerate(contours) if contour_char_OK(cc, size)]\n",
    "    return contours\n",
    "\n",
    "def contour_char_OK(cc, size=1000000):\n",
    "    x, y, w, h = cv2.boundingRect(cc)\n",
    "    area = cv2.contourArea(cc)\n",
    "    \n",
    "    if w < 3 or h < 5 or area < 120: \n",
    "        return False\n",
    "    \n",
    "    validDimentson = w/h > 0.11 and w/h < 0.78\n",
    "    varidAreaRatio = area/(w*h)  > 0.17\n",
    "    return validDimentson and varidAreaRatio\n",
    "\n",
    "def sort_contours(contours, method=\"left-to-right\"):\n",
    "    reverse = False\n",
    "    i = 0\n",
    "    if method == \"right-to-left\" or method == \"bottom-to-top\":\n",
    "        reverse = True\n",
    "\n",
    "    if method == \"top-to-bottom\" or method == \"bottom-to-top\":\n",
    "        i = 1\n",
    "    boundingBoxes = [cv2.boundingRect(cnt) for cnt in contours]\n",
    "    \n",
    "    cnts, boundingBoxes = zip(*sorted(zip(contours, boundingBoxes), key=lambda b:b[1][i], reverse=reverse))\n",
    "    return cnts, boundingBoxes"
   ]
  },
  {
   "cell_type": "code",
   "execution_count": 49,
   "metadata": {},
   "outputs": [],
   "source": [
    "def crop_plate(thresh, contours):\n",
    "    rects = []\n",
    "    for i, cnt in enumerate(contours) :\n",
    "        rect = cv2.boundingRect(cnt)\n",
    "        rects.append(rect)\n",
    "\n",
    "    rects = np.array(rects)\n",
    "\n",
    "    if len(rects) < 4 :\n",
    "        return False, thresh, []\n",
    "    rects = similar_rect(rects, row=3, n=2) #similar rect for closest `h` (row 3)\n",
    "\n",
    "    if len(rects) < 4 :\n",
    "        return False, thresh, []\n",
    "    rects = similar_rect(rects, row=2, n=2) #similar rect for closest `w` (row 2)\n",
    "\n",
    "    if len(rects) < 4 :\n",
    "        return False, thresh, []\n",
    "    x1 = rects[:, 0].min()\n",
    "    x2 = rects[:, 0].max() + rects[:, 2].max()\n",
    "    y1 = rects[:, 1].min()\n",
    "    y2 = rects[:, 1].max() + rects[:, 3].max()\n",
    "    plate_number = thresh[y1:y2, x1:x2]\n",
    "    return True, plate_number, [x1, y1, x2, y2]\n",
    "\n",
    "def similar_rect(rects, row=3, n=2):\n",
    "    mean = np.mean(rects[:, row])\n",
    "    std = np.std(rects[:, row])\n",
    "    rects = np.array([rect for rect in rects if abs(rect[row] - mean) < n*std and rect_ok(rect)])\n",
    "    return rects\n",
    "\n",
    "def rect_ok(rect):\n",
    "    x, y, w, h = rect\n",
    "    return w/h > 0.11 and w/h < 0.7"
   ]
  },
  {
   "cell_type": "code",
   "execution_count": 50,
   "metadata": {},
   "outputs": [
    {
     "name": "stdout",
     "output_type": "stream",
     "text": [
      "result [ 1.  6.  1.  6. 28. 10. 14.]\n",
      "text_result ['1', '6', '1', '6', 'U', 'A', 'E']\n"
     ]
    }
   ],
   "source": [
    "img = cv2.imread(\"plat-nomor-7.jpg\")\n",
    "\n",
    "h, w, c = img.shape\n",
    "thresh, roi, roi_rect, s = preprocessing(img, h1=0.5*h, h2=0.85*h )\n",
    "\n",
    "contours = get_contours(thresh)\n",
    "\n",
    "is_plate, plate_img, plate_rect = crop_plate(thresh, contours)\n",
    "\n",
    "# pts = find_4_coord(contours)\n",
    "# plate_img = transform(plate_img, pts)\n",
    "\n",
    "chars = []\n",
    "if is_plate :\n",
    "    x1, y1, x2, y2 = plate_rect\n",
    "    x1_, y1_, x2_, y2_ = roi_rect\n",
    "    left = int(x1/s) + x1_\n",
    "    top = int(y1/s) + y1_\n",
    "    right = int(x2/s) + x1_\n",
    "    bottom = int(y2/s) + y1_\n",
    "    plate_img_rgb = roi[y1:y2, x1:x2] # get image license plate\n",
    "    \n",
    "    contours = get_contours(plate_img)\n",
    "    if len(contours) > 1:\n",
    "        contours, __ = sort_contours(contours) \n",
    "        for i, cnt in enumerate(contours) :\n",
    "            x, y, w, h = cv2.boundingRect(cnt) # get bounding box each character\n",
    "            \n",
    "            char = plate_img_rgb[y:y+h, x:x+w]\n",
    "            char_grey = cv2.cvtColor(char, cv2.COLOR_BGR2GRAY)\n",
    "            char_inv = cv2.bitwise_not(char_grey)\n",
    "            cv2.imshow(\"char_inv - %d\" % i, char_inv)\n",
    "            char_inv = cv2.resize(char_inv, (20,20))\n",
    "\n",
    "            char_hog = hog(deskew(char_inv))\n",
    "            chars.append(char_hog)\n",
    "            \n",
    "        chars = np.float32(chars).reshape(-1, 64)\n",
    "        result = svm.predict(chars)[1].T[0]\n",
    "        print(\"result\", result)\n",
    "        text_result = [label[int(idx)] for idx in result]\n",
    "        print(\"text_result\", text_result)\n",
    "        img = drawPred(img, ''.join(text_result), left, top - 5, right, bottom)\n",
    "\n",
    "cv2.imshow(\"plate img\", plate_img_rgb)\n",
    "cv2.imshow(\"car img\", img)\n",
    "cv2.waitKey(0)\n",
    "cv2.destroyAllWindows()"
   ]
  },
  {
   "cell_type": "markdown",
   "metadata": {},
   "source": [
    "- Geometric Correction"
   ]
  },
  {
   "cell_type": "code",
   "execution_count": null,
   "metadata": {},
   "outputs": [],
   "source": [
    "def find_4_coord(contours):\n",
    "    perimeter = []\n",
    "    for cc in contours:\n",
    "        perimeter = cv2.approxPolyDP(cc, 0.09 * cv2.arcLength(cc, True), True)\n",
    "    return np.array(perimeter[:,0,:])\n",
    "        \n",
    "def order_points(pts):\n",
    "\n",
    "    rect = np.zeros((4, 2), dtype = \"float32\")\n",
    "    s = pts.sum(axis = 1)\n",
    "    rect[0] = pts[np.argmin(s)]\n",
    "    rect[2] = pts[np.argmax(s)]\n",
    "    diff = np.diff(pts, axis = 1)\n",
    "    rect[1] = pts[np.argmin(diff)]\n",
    "    rect[3] = pts[np.argmax(diff)]\n",
    "    return rect\n",
    "\n",
    "def transform(img, pts):\n",
    "\n",
    "    rect = order_points(pts)\n",
    "    (tl, tr, br, bl) = rect\n",
    "    print(tl, tr, br, bl)\n",
    "\n",
    "    for pt in rect.astype(np.uint16):\n",
    "        cv2.circle(img, (pt[0], pt[1]), 4, (0,255,255), -1)\n",
    "\n",
    "    widthA = np.sqrt(((br[0] - bl[0]) ** 2) + ((br[1] - bl[1]) ** 2))\n",
    "    widthB = np.sqrt(((tr[0] - tl[0]) ** 2) + ((tr[1] - tl[1]) ** 2))\n",
    "    maxWidth = max(int(widthA), int(widthB))\n",
    "\n",
    "    heightA = np.sqrt(((tr[0] - br[0]) ** 2) + ((tr[1] - br[1]) ** 2))\n",
    "    heightB = np.sqrt(((tl[0] - bl[0]) ** 2) + ((tl[1] - bl[1]) ** 2))\n",
    "    maxHeight = max(int(heightA), int(heightB))\n",
    "\n",
    "    dst = np.array([\n",
    "        [0, 0],\n",
    "        [maxWidth, 0],\n",
    "        [maxWidth, maxHeight],\n",
    "        [0, maxHeight]], dtype = \"float32\")\n",
    "\n",
    "    M = cv2.getPerspectiveTransform(rect, dst)\n",
    "    warped = cv2.warpPerspective(img, M, (100, 150))\n",
    "    return warped"
   ]
  },
  {
   "cell_type": "markdown",
   "metadata": {},
   "source": [
    "### Task\n",
    "- Deteksi Plat Nomor menggunakan Yolo + Recognize Character menggunakan SVM model"
   ]
  },
  {
   "cell_type": "code",
   "execution_count": null,
   "metadata": {},
   "outputs": [],
   "source": []
  },
  {
   "cell_type": "markdown",
   "metadata": {},
   "source": [
    "# Sumber \n",
    "- https://en.wikipedia.org/wiki/Machine_learning\n",
    "- https://docs.opencv.org/master/dc/dd6/ml_intro.html\n",
    "- https://docs.opencv.org/master/dd/d3b/tutorial_py_svm_opencv.html\n",
    "- https://www.learnopencv.com/histogram-of-oriented-gradients/\n",
    "- https://ogrisel.github.io/scikit-learn.org/sklearn-tutorial/modules/generated/sklearn.cross_validation.train_test_split.html\n",
    "- https://scikit-learn.org/stable/modules/generated/sklearn.metrics.classification_report.html"
   ]
  },
  {
   "cell_type": "code",
   "execution_count": null,
   "metadata": {},
   "outputs": [],
   "source": []
  }
 ],
 "metadata": {
  "kernelspec": {
   "display_name": "Python [conda env:opencv_env]",
   "language": "python",
   "name": "conda-env-opencv_env-py"
  },
  "language_info": {
   "codemirror_mode": {
    "name": "ipython",
    "version": 3
   },
   "file_extension": ".py",
   "mimetype": "text/x-python",
   "name": "python",
   "nbconvert_exporter": "python",
   "pygments_lexer": "ipython3",
   "version": "3.8.6"
  }
 },
 "nbformat": 4,
 "nbformat_minor": 4
}
