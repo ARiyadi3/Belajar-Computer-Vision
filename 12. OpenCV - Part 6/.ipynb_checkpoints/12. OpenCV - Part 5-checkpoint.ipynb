{
 "cells": [
  {
   "cell_type": "markdown",
   "metadata": {},
   "source": [
    "# OpenCV - Part 5\n",
    "\n",
    "- Basic Morphological Transform (Eroding & Dilating)\n",
    "- Advance Morphological Transform (Opening, Closing, & Morphological Gradient)\n",
    "- Morphological Operation (Structuring Element)"
   ]
  },
  {
   "cell_type": "code",
   "execution_count": 1,
   "metadata": {},
   "outputs": [],
   "source": [
    "import cv2\n",
    "import matplotlib.pyplot as plt\n",
    "import numpy as np"
   ]
  },
  {
   "cell_type": "markdown",
   "metadata": {},
   "source": [
    "### Basic Morphological Transform (Eroding & Dilating)\n",
    "\n",
    "- A set of operations that process images based on shapes. \n",
    "- Morphological operations apply a structuring element to an input image and generate an output image.\n",
    "- Usecase :\n",
    "    - Removing noise\n",
    "    - Isolation of individual elements and joining disparate elements in an image.\n",
    "    - Finding of intensity bumps or holes in an image\n",
    "\n",
    "#### Dilation\n",
    "- This operations consists of convolving an image $A$ with some **kernel** ($B$), which can have any shape or size, usually a **square** or **circle**.\n",
    "- The kernel $B$ has a defined **anchor point**, usually being the center of the kernel.\n",
    "- As the kernel $B$ is scanned over the image, we compute the maximal pixel value overlapped by $B$ and **replace** the image pixel in the **anchor point** position with that **maximal value**. \n",
    "- This maximizing operation causes **bright regions** within an image to **\"grow\"** (therefore the name dilation). <br>\n",
    "<img src=\"resource/Original_Image.png\" style=\"width:100px; margin-top:10px;\"></img>\n",
    "<img src=\"resource/Dilation.png\" style=\"width:100px; margin-top:10px;\"></img> <br>\n",
    "<span style=\"width:100px; padding:5px;\">Original Image</span>\n",
    "<span style=\"width:100px; padding:5px;\">Dilation Image</span>\n",
    "- Dilation function `cv2.dilating(img, kernel, anchor, iterations)`\n",
    "- Where :\n",
    "    - `img` : Input image\n",
    "    - `kernel` : kernel matrix (ndarray), created using `np.ones()` or `cv2.getStructuringElement()` \n",
    "    - `anchor` : Evaluated pixel value on the kernel position, default (-1, -1) as Center of kernel.\n",
    "    - `iterations` : Number of times dilation aplied to input image.\n",
    "    \n",
    "#### Erosion\n",
    "- This operation  computes a **local minimum** over the area of given kernel.\n",
    "- As the kernel $B$ is scanned over the image, we compute the minimal pixel value overlapped by $B$ and replace the image pixel under the **anchor point** with that **minimal value**.<br>\n",
    "<img src=\"resource/Original_Image.png\" style=\"width:100px; margin-top:10px;\"></img>\n",
    "<img src=\"resource/Erosion.png\" style=\"width:100px; margin-top:10px;\"></img> <br>\n",
    "<span style=\"width:100px; padding:5px;\">Original Image</span>\n",
    "<span style=\"width:100px; padding:5px;\">Erosion Image</span>\n",
    "- Eroding function `cv2.erode(img, kernel, anchor, iterations)`\n",
    "- Where :\n",
    "    - `img` : Input image\n",
    "    - `kernel` : kernel matrix (ndarray), created using `np.ones()` or `cv2.getStructuringElement()` \n",
    "    - `anchor` : Evaluated pixel value on the kernel position, default (-1, -1) as Center of kernel.\n",
    "    - `iterations` : Number of times erotion aplied to input image."
   ]
  },
  {
   "cell_type": "code",
   "execution_count": 63,
   "metadata": {},
   "outputs": [
    {
     "data": {
      "text/plain": [
       "<matplotlib.image.AxesImage at 0x1f944220dc0>"
      ]
     },
     "execution_count": 63,
     "metadata": {},
     "output_type": "execute_result"
    },
    {
     "data": {
      "image/png": "[encoded data removed]",
      "text/plain": [
       "<Figure size 432x288 with 1 Axes>"
      ]
     },
     "metadata": {
      "needs_background": "light"
     },
     "output_type": "display_data"
    }
   ],
   "source": [
    "frame = np.zeros((20,20),np.uint8)\n",
    "cv2.circle(frame, (5,5), 3, (255,255,255), -1, cv2.LINE_AA)\n",
    "cv2.circle(frame, (14,14), 3, (255,255,255), -1, cv2.LINE_AA)\n",
    "plt.imshow(frame, cmap=\"gray\")"
   ]
  },
  {
   "cell_type": "markdown",
   "metadata": {},
   "source": [
    "- create **square kernel**"
   ]
  },
  {
   "cell_type": "code",
   "execution_count": 64,
   "metadata": {},
   "outputs": [
    {
     "name": "stdout",
     "output_type": "stream",
     "text": [
      "[[1 1 1 1 1]\n",
      " [1 1 1 1 1]\n",
      " [1 1 1 1 1]\n",
      " [1 1 1 1 1]\n",
      " [1 1 1 1 1]]\n"
     ]
    }
   ],
   "source": [
    "kernel = np.ones((5,5),np.uint8)\n",
    "print(kernel)"
   ]
  },
  {
   "cell_type": "code",
   "execution_count": 66,
   "metadata": {},
   "outputs": [
    {
     "data": {
      "text/plain": [
       "<matplotlib.image.AxesImage at 0x1f9442e40a0>"
      ]
     },
     "execution_count": 66,
     "metadata": {},
     "output_type": "execute_result"
    },
    {
     "data": {
      "image/png": "[encoded data removed]",
      "text/plain": [
       "<Figure size 432x288 with 1 Axes>"
      ]
     },
     "metadata": {
      "needs_background": "light"
     },
     "output_type": "display_data"
    }
   ],
   "source": [
    "dilate = cv2.dilate(frame.copy(), kernel, iterations = 1)\n",
    "plt.imshow(dilate, cmap=\"gray\")"
   ]
  },
  {
   "cell_type": "code",
   "execution_count": 68,
   "metadata": {},
   "outputs": [
    {
     "data": {
      "text/plain": [
       "<matplotlib.image.AxesImage at 0x1f9443929d0>"
      ]
     },
     "execution_count": 68,
     "metadata": {},
     "output_type": "execute_result"
    },
    {
     "data": {
      "image/png": "[encoded data removed]",
      "text/plain": [
       "<Figure size 432x288 with 1 Axes>"
      ]
     },
     "metadata": {
      "needs_background": "light"
     },
     "output_type": "display_data"
    }
   ],
   "source": [
    "eroding = cv2.erode(frame.copy(), kernel, iterations = 1)\n",
    "plt.imshow(eroding, cmap=\"gray\")"
   ]
  },
  {
   "cell_type": "markdown",
   "metadata": {},
   "source": [
    "### Denoising Citra MRI menggunakan Eroding \n",
    "\n",
    "- Penggunaan `cv2.erode()` + square kernel mirip dengan `cv2.blur()`"
   ]
  },
  {
   "cell_type": "code",
   "execution_count": 79,
   "metadata": {},
   "outputs": [],
   "source": [
    "img = cv2.imread('noisy_mri.jpg')\n",
    "gray = cv2.cvtColor(img, cv2.COLOR_BGR2GRAY)\n",
    "\n",
    "kernel = np.ones((3,3),np.uint8)\n",
    "erosion = cv2.erode(gray, kernel, iterations = 1)\n",
    "\n",
    "cv2.imshow(\"Erosion\", erosion)\n",
    "cv2.imshow(\"Original\", img)\n",
    "cv2.waitKey(0)\n",
    "cv2.destroyAllWindows()"
   ]
  },
  {
   "cell_type": "markdown",
   "metadata": {},
   "source": [
    "## Fixing Broken Character menggunakan Dilating"
   ]
  },
  {
   "cell_type": "code",
   "execution_count": 88,
   "metadata": {},
   "outputs": [],
   "source": [
    "img = cv2.imread('Broker_Char.png')\n",
    "gray = cv2.cvtColor(img, cv2.COLOR_BGR2GRAY)\n",
    "ret, thresh = cv2.threshold(img, 127, 255, cv2.THRESH_BINARY)\n",
    "\n",
    "kernel = np.ones((5,5),np.uint8)\n",
    "dilating = cv2.dilate(thresh, kernel, iterations = 1)\n",
    "\n",
    "cv2.imshow(\"Dilating\", dilating)\n",
    "cv2.imshow(\"Original\", img)\n",
    "cv2.waitKey(0)\n",
    "cv2.destroyAllWindows()"
   ]
  },
  {
   "cell_type": "markdown",
   "metadata": {},
   "source": [
    "- Menambahkan Trackbar"
   ]
  },
  {
   "cell_type": "code",
   "execution_count": 92,
   "metadata": {},
   "outputs": [],
   "source": [
    "iteration = 1\n",
    "kernel_size = 3\n",
    "title_window = \"Ditation Image\"\n",
    "\n",
    "def on_trackbar_iteration(val):\n",
    "    if val > 0 :\n",
    "        global iteration\n",
    "        iteration = val\n",
    "        kernel = np.ones((kernel_size,kernel_size),np.uint8)\n",
    "        dilating = cv2.dilate(thresh, kernel, iterations = iteration)\n",
    "        cv2.imshow(title_window, dilating)\n",
    "        \n",
    "def on_trackbar_kernel_size(val):\n",
    "    if val > 0 :\n",
    "        global kernel_size\n",
    "        kernel_size = val\n",
    "        kernel = np.ones((kernel_size,kernel_size),np.uint8)\n",
    "        dilating = cv2.dilate(thresh, kernel, iterations = iteration)\n",
    "        cv2.imshow(title_window, dilating)\n",
    "    \n",
    "\n",
    "img = cv2.imread('Broker_Char.png')\n",
    "\n",
    "cv2.namedWindow(title_window)\n",
    "cv2.createTrackbar('kernel', title_window , 3, 10, on_trackbar_kernel_size)\n",
    "cv2.createTrackbar('iteration', title_window , 1, 10, on_trackbar_iteration)\n",
    "\n",
    "on_trackbar_kernel_size(3)\n",
    "cv2.waitKey(0)\n",
    "cv2.destroyAllWindows()"
   ]
  },
  {
   "cell_type": "markdown",
   "metadata": {},
   "source": [
    "### Task\n",
    "\n",
    "- define kernel (numpy ones)\n",
    "- Apply eroding untuk menghilangkan dot puih (noise)\n",
    "- Apply dilating untuk menyempurnakan karakter (menyambungkan gap)\n",
    "- Apply Eroding kembali agar ukuranya kembali normal\n",
    "- Atur iterasi pada eroding dan dilating agar dapat sesuai seperti berikut :\n",
    "<br>\n",
    "<img src=\"resource/task1.PNG\" style=\"width:400px\"></img>"
   ]
  },
  {
   "cell_type": "code",
   "execution_count": null,
   "metadata": {},
   "outputs": [],
   "source": [
    "# --- Jawaban ----\n",
    "#\n",
    "#\n",
    "#"
   ]
  },
  {
   "cell_type": "code",
   "execution_count": 119,
   "metadata": {},
   "outputs": [],
   "source": [
    "img = cv2.imread('Noised_Broker_Char.png')\n",
    "gray = cv2.cvtColor(img, cv2.COLOR_BGR2GRAY)\n",
    "ret, thresh = cv2.threshold(img, 127, 255, cv2.THRESH_BINARY)\n",
    "\n",
    "kernel = np.ones((3,3),np.uint8)\n",
    "erosion = cv2.erode(thresh, kernel, iterations = 3)\n",
    "dilating = cv2.dilate(erosion, kernel, iterations = 9)\n",
    "normalize = cv2.erode(dilating, kernel, iterations = 7)\n",
    "\n",
    "cv2.imshow(\"Erosion\", erosion)\n",
    "cv2.imshow(\"Dilating\", dilating)\n",
    "cv2.imshow(\"Original\", img)\n",
    "cv2.imshow(\"normalize\", normalize)\n",
    "cv2.waitKey(0)\n",
    "cv2.destroyAllWindows()\n"
   ]
  },
  {
   "cell_type": "markdown",
   "metadata": {},
   "source": [
    "___\n",
    "## Advance Morphological Transform \n",
    "### Opening, Closing, & Morphological Gradient\n",
    "\n",
    "- Advance Morphological Transform use `cv2.morphologyEx(img, morphological_type, kernel, iterations)`\n",
    "- where :\n",
    "    - `img` : input image\n",
    "    - `morphological_type` : \n",
    "        - **Opening** : `cv2.MORPH_OPEN` (**erosion followed by dilation**. It is useful in **removing noise**.)<br>\n",
    "        <img src=\"resource/opening.png\" style=\"width:200px\"></img>\n",
    "        - **Closing** : `cv2.MORPH_CLOSE` (**Dilation followed by Erosion**. It is useful in **closing small holes** inside the foreground objects)<br>\n",
    "        <img src=\"resource/closing.png\" style=\"width:200px\"></img>\n",
    "        - **Morphological Gradient** : `cv2.MORPH_GRADIENT` (The result will look like the outline of the object.)<br>\n",
    "        <img src=\"resource/gradient.png\" style=\"width:200px\"></img>\n",
    "    - `kernel` : kernel matrix (ndarray), created using np.ones() or cv2.getStructuringElement()\n",
    "    - `iterations` : Number of times method (opening/closing/Gradient) aplied to input image."
   ]
  },
  {
   "cell_type": "markdown",
   "metadata": {},
   "source": [
    "#### Opening & Closing"
   ]
  },
  {
   "cell_type": "markdown",
   "metadata": {},
   "source": [
    "- Implementation Opening on Noisy MRI Image\n",
    "- Object scale after opening similar to original"
   ]
  },
  {
   "cell_type": "code",
   "execution_count": 136,
   "metadata": {},
   "outputs": [],
   "source": [
    "img = cv2.imread('noisy_mri.jpg')\n",
    "gray = cv2.cvtColor(img, cv2.COLOR_BGR2GRAY)\n",
    "\n",
    "kernel = np.ones((3,3),np.uint8)\n",
    "opening = cv2.morphologyEx(gray, cv2.MORPH_OPEN, kernel, iterations=1)\n",
    "\n",
    "cv2.imshow(\"Opening\", opening)\n",
    "cv2.imshow(\"Original\", img)\n",
    "cv2.waitKey(0)\n",
    "cv2.destroyAllWindows()"
   ]
  },
  {
   "cell_type": "markdown",
   "metadata": {},
   "source": [
    "- Implementation Closing on Broken Char Image\n",
    "- Object scale after closing similar to original"
   ]
  },
  {
   "cell_type": "code",
   "execution_count": 148,
   "metadata": {},
   "outputs": [],
   "source": [
    "img = cv2.imread('Broken_Char_2.png')\n",
    "gray = cv2.cvtColor(img, cv2.COLOR_BGR2GRAY)\n",
    "ret, thresh = cv2.threshold(img, 127, 255, cv2.THRESH_BINARY)\n",
    "\n",
    "kernel = np.ones((3,3),np.uint8)\n",
    "closing = cv2.morphologyEx(img, cv2.MORPH_CLOSE, kernel, iterations=3)\n",
    "\n",
    "cv2.imshow(\"Closing\", closing)\n",
    "cv2.imshow(\"Original\", img)\n",
    "cv2.waitKey(0)\n",
    "cv2.destroyAllWindows()"
   ]
  },
  {
   "cell_type": "markdown",
   "metadata": {},
   "source": [
    "- Implementation Opening and Closing on Noised & Broken Char Image\n",
    "    - remove noise using opening\n",
    "    - join the gap using closing"
   ]
  },
  {
   "cell_type": "code",
   "execution_count": 151,
   "metadata": {},
   "outputs": [],
   "source": [
    "img = cv2.imread('Noised_Broker_Char.png')\n",
    "gray = cv2.cvtColor(img, cv2.COLOR_BGR2GRAY)\n",
    "ret, thresh = cv2.threshold(img, 127, 255, cv2.THRESH_BINARY)\n",
    "\n",
    "kernel = np.ones((3,3),np.uint8)\n",
    "opening = cv2.morphologyEx(img, cv2.MORPH_OPEN, kernel, iterations=3)\n",
    "closing = cv2.morphologyEx(opening, cv2.MORPH_CLOSE, kernel, iterations=7)\n",
    "\n",
    "cv2.imshow(\"Opening\", opening)\n",
    "cv2.imshow(\"Closing\", closing)\n",
    "cv2.imshow(\"Original\", img)\n",
    "cv2.waitKey(0)\n",
    "cv2.destroyAllWindows()"
   ]
  },
  {
   "cell_type": "markdown",
   "metadata": {},
   "source": [
    "#### Morphological Gradient\n",
    "- Because dilation and erosion mostly affect the pixels that are close to the boundary between the foreground and background, their difference generally yields the boundary and thus this is used for **edge detection and segmentation tasks**."
   ]
  },
  {
   "cell_type": "code",
   "execution_count": 156,
   "metadata": {},
   "outputs": [],
   "source": [
    "img = cv2.imread('Char.png')\n",
    "gray = cv2.cvtColor(img, cv2.COLOR_BGR2GRAY)\n",
    "ret, thresh = cv2.threshold(img, 127, 255, cv2.THRESH_BINARY)\n",
    "\n",
    "kernel = np.ones((3,3),np.uint8)\n",
    "\n",
    "# gradient using erosion and dilation\n",
    "erosion = cv2.erode(thresh, kernel, iterations = 1)\n",
    "dilation = cv2.dilate(thresh, kernel, iterations = 1)\n",
    "gradient1 = dilation - erosion\n",
    "\n",
    "# Morphological Gradient\n",
    "gradient2 = cv2.morphologyEx(img, cv2.MORPH_GRADIENT, kernel, iterations = 1)\n",
    "\n",
    "cv2.imshow(\"Gradient\", gradient1)\n",
    "cv2.imshow(\"Morphological Gradient\", gradient2)\n",
    "cv2.imshow(\"Original\", img)\n",
    "cv2.waitKey(0)\n",
    "cv2.destroyAllWindows()"
   ]
  },
  {
   "cell_type": "markdown",
   "metadata": {},
   "source": [
    "#### Implementasi Morphological Gradient | **Tackling non-uniform illumination in images**"
   ]
  },
  {
   "cell_type": "markdown",
   "metadata": {},
   "source": [
    "- Using Simple Thresholding"
   ]
  },
  {
   "cell_type": "code",
   "execution_count": 161,
   "metadata": {},
   "outputs": [],
   "source": [
    "img = cv2.imread('StrukBelanja.png')\n",
    "gray = cv2.cvtColor(img, cv2.COLOR_BGR2GRAY)\n",
    "ret, thresh = cv2.threshold(img, 127, 255, cv2.THRESH_TOZERO)\n",
    "\n",
    "\n",
    "cv2.imshow(\"To Zero\", thresh)\n",
    "cv2.imshow(\"Original\", img)\n",
    "cv2.waitKey(0)\n",
    "cv2.destroyAllWindows()"
   ]
  },
  {
   "cell_type": "markdown",
   "metadata": {},
   "source": [
    "- Simple Thresholding (Binary)\n",
    "![](resource/th_binary_ilumination.png)\n",
    "- Simple Thresholding (To Zero)\n",
    "![](resource/th_tzr_ilumination.png)"
   ]
  },
  {
   "cell_type": "markdown",
   "metadata": {},
   "source": [
    "- Using Morphological Gradient"
   ]
  },
  {
   "cell_type": "code",
   "execution_count": 180,
   "metadata": {},
   "outputs": [],
   "source": [
    "img = cv2.imread('StrukBelanja.png')\n",
    "gray = cv2.cvtColor(img, cv2.COLOR_BGR2GRAY)\n",
    "\n",
    "kernel = np.ones((2,2),np.uint8)\n",
    "\n",
    "gradient = cv2.morphologyEx(gray, cv2.MORPH_GRADIENT, kernel, iterations = 1)\n",
    "\n",
    "cv2.imshow(\"Morphological Gradient\", gradient)\n",
    "cv2.imshow(\"Original\", img)\n",
    "cv2.waitKey(0)\n",
    "cv2.destroyAllWindows()"
   ]
  },
  {
   "cell_type": "markdown",
   "metadata": {},
   "source": [
    "- Morphological Gradient\n",
    "![](resource/morph_grad_ilumination.png)"
   ]
  },
  {
   "cell_type": "markdown",
   "metadata": {},
   "source": [
    "- Implementasi Pada Fingerprint image with non-uniform illumination"
   ]
  },
  {
   "cell_type": "code",
   "execution_count": 35,
   "metadata": {},
   "outputs": [],
   "source": [
    "img = cv2.imread('Fingerprint.png')\n",
    "img = cv2.bitwise_not(img)\n",
    "gray = cv2.cvtColor(img, cv2.COLOR_BGR2GRAY)\n",
    "\n",
    "ret, thresh = cv2.threshold(gray, 127, 255, cv2.THRESH_TOZERO_INV)\n",
    "\n",
    "\n",
    "kernel = np.ones((3,3),np.uint8)\n",
    "gradient = cv2.morphologyEx(gray, cv2.MORPH_GRADIENT, kernel, iterations = 1)\n",
    "\n",
    "cv2.imshow(\"Morphological Gradient\", gradient)\n",
    "cv2.imshow(\"To Zero\", thresh)\n",
    "cv2.imshow(\"Original\", img)\n",
    "cv2.waitKey(0)\n",
    "cv2.destroyAllWindows()"
   ]
  },
  {
   "cell_type": "markdown",
   "metadata": {},
   "source": [
    "### Task :\n",
    "\n",
    "- read image `number_plate.jpg`\n",
    "- apply morphological gradient, kernel 3x3, iteration 1\n",
    "- apply tozero thresholding, threshold = 100, maxVal = 255\n",
    "- find contour method RETR_EXTERNAL, mode CHAIN_APPROX_NONE\n",
    "- draw contour, color red, thicness 1 <br>\n",
    "<img src=\"resource/plate_number.png\" style=\"width:300px;\" ></img>"
   ]
  },
  {
   "cell_type": "code",
   "execution_count": 120,
   "metadata": {},
   "outputs": [],
   "source": [
    "# ------ Jawaban ------\n",
    "#\n",
    "#\n",
    "#"
   ]
  },
  {
   "cell_type": "code",
   "execution_count": 119,
   "metadata": {},
   "outputs": [],
   "source": [
    "img = cv2.imread('number_plate.jpg')\n",
    "\n",
    "gray = cv2.cvtColor(img, cv2.COLOR_BGR2GRAY)\n",
    "\n",
    "kernel = np.ones((3,3),np.uint8)\n",
    "gradient = cv2.morphologyEx(gray, cv2.MORPH_GRADIENT, kernel, iterations = 1)\n",
    "ret, thresh = cv2.threshold(gradient, 100, 255, cv2.THRESH_TOZERO)\n",
    "contours, hierarchy = cv2.findContours(thresh, cv2.RETR_EXTERNAL, cv2.CHAIN_APPROX_NONE)\n",
    "\n",
    "for cnt in contours:\n",
    "    cv2.drawContours(img, [cnt], -1, (0,0,255), 1)\n",
    "\n",
    "cv2.imshow(\"Morphological Gradient\", gradient)\n",
    "cv2.imshow(\"Edge - Thresholding\", thresh)\n",
    "cv2.imshow(\"Original\", img)\n",
    "cv2.waitKey(0)\n",
    "cv2.destroyAllWindows()"
   ]
  },
  {
   "cell_type": "code",
   "execution_count": null,
   "metadata": {},
   "outputs": [],
   "source": []
  },
  {
   "cell_type": "markdown",
   "metadata": {},
   "source": [
    "___"
   ]
  },
  {
   "cell_type": "markdown",
   "metadata": {},
   "source": [
    "## Morhological Operation | Structuring Element\n",
    "\n",
    "- method `cv2.getStructuringElement (shape, ksize, anchor)`\n",
    "- where :\n",
    "    - `shape`:\n",
    "        - `cv2.MORPH_RECT` : a rectangular structuring element\n",
    "        ```\n",
    "       [[1, 1, 1, 1, 1],\n",
    "       [1, 1, 1, 1, 1],\n",
    "       [1, 1, 1, 1, 1],\n",
    "       [1, 1, 1, 1, 1],\n",
    "       [1, 1, 1, 1, 1]]\n",
    "        ```\n",
    "        - `cv2.MORPH_CROSS` : a cross-shaped structuring element\n",
    "        ```\n",
    "       [[0, 0, 1, 0, 0],\n",
    "       [0, 0, 1, 0, 0],\n",
    "       [1, 1, 1, 1, 1],\n",
    "       [0, 0, 1, 0, 0],\n",
    "       [0, 0, 1, 0, 0]]\n",
    "        ```\n",
    "        - `cv2.MORPH_ELLIPSE` : an elliptic structuring element\n",
    "        ```\n",
    "       [[0, 0, 1, 0, 0],\n",
    "       [1, 1, 1, 1, 1],\n",
    "       [1, 1, 1, 1, 1],\n",
    "       [1, 1, 1, 1, 1],\n",
    "       [0, 0, 1, 0, 0]]\n",
    "        ```\n",
    "    - `ksize` : tuple of kernel size, (3,3)\n",
    "    - `anchor` : Evaluated pixel value on the kernel position, default (-1, -1) as Center of kernel."
   ]
  },
  {
   "cell_type": "code",
   "execution_count": 124,
   "metadata": {},
   "outputs": [
    {
     "data": {
      "text/plain": [
       "array([[1, 1, 1, 1, 1],\n",
       "       [1, 1, 1, 1, 1],\n",
       "       [1, 1, 1, 1, 1],\n",
       "       [1, 1, 1, 1, 1],\n",
       "       [1, 1, 1, 1, 1]], dtype=uint8)"
      ]
     },
     "execution_count": 124,
     "metadata": {},
     "output_type": "execute_result"
    }
   ],
   "source": [
    "cv2.getStructuringElement(cv2.MORPH_RECT, (5, 5))"
   ]
  },
  {
   "cell_type": "code",
   "execution_count": 125,
   "metadata": {},
   "outputs": [
    {
     "data": {
      "text/plain": [
       "array([[0, 0, 1, 0, 0],\n",
       "       [0, 0, 1, 0, 0],\n",
       "       [1, 1, 1, 1, 1],\n",
       "       [0, 0, 1, 0, 0],\n",
       "       [0, 0, 1, 0, 0]], dtype=uint8)"
      ]
     },
     "execution_count": 125,
     "metadata": {},
     "output_type": "execute_result"
    }
   ],
   "source": [
    "cv2.getStructuringElement(cv2.MORPH_CROSS, (5, 5))"
   ]
  },
  {
   "cell_type": "code",
   "execution_count": 126,
   "metadata": {},
   "outputs": [
    {
     "data": {
      "text/plain": [
       "array([[0, 0, 1, 0, 0],\n",
       "       [1, 1, 1, 1, 1],\n",
       "       [1, 1, 1, 1, 1],\n",
       "       [1, 1, 1, 1, 1],\n",
       "       [0, 0, 1, 0, 0]], dtype=uint8)"
      ]
     },
     "execution_count": 126,
     "metadata": {},
     "output_type": "execute_result"
    }
   ],
   "source": [
    "cv2.getStructuringElement(cv2.MORPH_ELLIPSE, (5, 5))"
   ]
  },
  {
   "cell_type": "markdown",
   "metadata": {},
   "source": [
    "### Removing staff line from musical sheet (no balok)"
   ]
  },
  {
   "cell_type": "code",
   "execution_count": 212,
   "metadata": {},
   "outputs": [],
   "source": [
    "img = cv2.imread(\"not_balok.png\")\n",
    "gray = cv2.cvtColor(img, cv2.COLOR_BGR2GRAY)\n",
    "gray = cv2.bitwise_not(gray)\n",
    "\n",
    "cv2.imshow(\"Gray\", gray)\n",
    "cv2.waitKey(0)\n",
    "cv2.destroyAllWindows()"
   ]
  },
  {
   "cell_type": "code",
   "execution_count": 213,
   "metadata": {},
   "outputs": [],
   "source": [
    "ret, thresh = cv2.threshold(gray, 100, 255, cv2.THRESH_BINARY)\n",
    "\n",
    "cv2.imshow(\"Binary\", thresh)\n",
    "cv2.waitKey(0)\n",
    "cv2.destroyAllWindows()"
   ]
  },
  {
   "cell_type": "markdown",
   "metadata": {},
   "source": [
    "##### Detect Line on Image"
   ]
  },
  {
   "cell_type": "code",
   "execution_count": 219,
   "metadata": {},
   "outputs": [
    {
     "name": "stdout",
     "output_type": "stream",
     "text": [
      "[[1 1 1 1 1 1 1 1 1 1 1 1 1 1 1 1 1 1 1 1 1 1 1 1 1 1 1 1 1 1 1 1 1 1 1 1\n",
      "  1 1 1 1 1 1 1 1 1]]\n"
     ]
    }
   ],
   "source": [
    "h, w, c = img.shape\n",
    "horizontal_size = w // 30\n",
    "\n",
    "horizontalStructure = cv2.getStructuringElement(cv2.MORPH_RECT, (horizontal_size, 1))\n",
    "\n",
    "print(horizontalStructure)"
   ]
  },
  {
   "cell_type": "code",
   "execution_count": 221,
   "metadata": {},
   "outputs": [],
   "source": [
    "opening = cv2.morphologyEx(thresh, cv2.MORPH_OPEN, horizontalStructure, iterations=1)\n",
    "\n",
    "cv2.imshow(\"Detected Staff Line | Opening\", opening)\n",
    "cv2.waitKey(0)\n",
    "cv2.destroyAllWindows()"
   ]
  },
  {
   "cell_type": "markdown",
   "metadata": {},
   "source": [
    "##### Segmentasi Not Balok"
   ]
  },
  {
   "cell_type": "code",
   "execution_count": 175,
   "metadata": {},
   "outputs": [
    {
     "name": "stdout",
     "output_type": "stream",
     "text": [
      "[[1]\n",
      " [1]\n",
      " [1]\n",
      " [1]]\n"
     ]
    }
   ],
   "source": [
    "vertical_size = h // 30\n",
    "\n",
    "verticalStructure = cv2.getStructuringElement(cv2.MORPH_RECT, (1, vertical_size))\n",
    "\n",
    "print(verticalStructure)"
   ]
  },
  {
   "cell_type": "code",
   "execution_count": 176,
   "metadata": {},
   "outputs": [],
   "source": [
    "opening = cv2.morphologyEx(thresh, cv2.MORPH_OPEN, verticalStructure, iterations=1)\n",
    "\n",
    "cv2.imshow(\"Detected Item | Opening\", opening)\n",
    "cv2.waitKey(0)\n",
    "cv2.destroyAllWindows()"
   ]
  },
  {
   "cell_type": "code",
   "execution_count": 177,
   "metadata": {},
   "outputs": [],
   "source": [
    "contours, hierarchy = cv2.findContours(opening, cv2.RETR_EXTERNAL, cv2.CHAIN_APPROX_NONE)\n",
    "\n",
    "for cnt in contours:\n",
    "    cv2.drawContours(img, [cnt], -1, (0,0,255), 1)\n",
    "    \n",
    "cv2.imshow(\"Musical Sheet Segmentation\", img)\n",
    "cv2.waitKey(0)\n",
    "cv2.destroyAllWindows()"
   ]
  },
  {
   "cell_type": "code",
   "execution_count": null,
   "metadata": {},
   "outputs": [],
   "source": []
  },
  {
   "cell_type": "markdown",
   "metadata": {},
   "source": [
    "### Task\n",
    "\n",
    "- extract line & charcater dari gambar `handwritting.jpg`, sehingga dihasilkan :\n",
    "\n",
    "![](resource/task2.png)\n"
   ]
  },
  {
   "cell_type": "code",
   "execution_count": 210,
   "metadata": {},
   "outputs": [],
   "source": [
    "img = cv2.imread(\"handwritting.jpg\")\n",
    "gray = cv2.cvtColor(img, cv2.COLOR_BGR2GRAY)\n",
    "gray = cv2.bitwise_not(gray)\n",
    "\n",
    "ret, thresh = cv2.threshold(gray, 0, 255, cv2.THRESH_BINARY + cv2.THRESH_OTSU)\n",
    "\n",
    "horizontalStructure = cv2.getStructuringElement(cv2.MORPH_RECT, (25, 1))\n",
    "\n",
    "detected_line = cv2.morphologyEx(thresh, cv2.MORPH_OPEN, horizontalStructure, iterations=1)\n",
    "\n",
    "cv2.imshow(\"Detected Line\", detected_line)\n",
    "cv2.waitKey(0)\n",
    "cv2.destroyAllWindows()"
   ]
  },
  {
   "cell_type": "code",
   "execution_count": 211,
   "metadata": {},
   "outputs": [],
   "source": [
    "verticalStructure = cv2.getStructuringElement(cv2.MORPH_RECT, (1, 4))\n",
    "\n",
    "detected_char = cv2.morphologyEx(thresh, cv2.MORPH_OPEN, verticalStructure, iterations=1)\n",
    "\n",
    "cv2.imshow(\"Detected Char\", detected_char)\n",
    "cv2.imshow(\"Detected Line\", detected_line)\n",
    "cv2.imshow(\"Original\", img)\n",
    "cv2.waitKey(0)\n",
    "cv2.destroyAllWindows()"
   ]
  },
  {
   "cell_type": "markdown",
   "metadata": {},
   "source": [
    "### Sumber\n",
    "- [tutorial_erosion_dilatation](https://docs.opencv.org/master/db/df6/tutorial_erosion_dilatation.html)\n",
    "- [tutorial_py_morphological_ops](https://docs.opencv.org/master/d9/d61/tutorial_py_morphological_ops.html)\n",
    "- [tutorial_morph_lines_detection](https://docs.opencv.org/master/dd/dd7/tutorial_morph_lines_detection.html)"
   ]
  },
  {
   "cell_type": "code",
   "execution_count": null,
   "metadata": {},
   "outputs": [],
   "source": [
    "kernel = cv2.getStructuringElement(cv2.MORPH_RECT, (5, 5))"
   ]
  }
 ],
 "metadata": {
  "kernelspec": {
   "display_name": "Python [conda env:opencv_env]",
   "language": "python",
   "name": "conda-env-opencv_env-py"
  },
  "language_info": {
   "codemirror_mode": {
    "name": "ipython",
    "version": 3
   },
   "file_extension": ".py",
   "mimetype": "text/x-python",
   "name": "python",
   "nbconvert_exporter": "python",
   "pygments_lexer": "ipython3",
   "version": "3.8.5"
  }
 },
 "nbformat": 4,
 "nbformat_minor": 4
}
