{
 "cells": [
  {
   "cell_type": "markdown",
   "metadata": {},
   "source": [
    "# OpenCV DNN - Part 2\n",
    "\n",
    "- OCR using **OpenCV DNN (EAST Model)** + **Google Tesseract**"
   ]
  },
  {
   "cell_type": "code",
   "execution_count": 1,
   "metadata": {},
   "outputs": [],
   "source": [
    "import cv2\n",
    "import numpy as np\n",
    "import matplotlib.pyplot as plt"
   ]
  },
  {
   "cell_type": "markdown",
   "metadata": {},
   "source": [
    "# *Reading text in the wild*\n",
    "- Any Typical machine learning OCR pipeline follows the following steps\n",
    "\n",
    "![](resource/RTD.png)\n",
    "\n",
    "- Image Processing :\n",
    "    - crop & resize\n",
    "    - binaryzation\n",
    "    - noise removal\n",
    "- Text Detection :\n",
    "    - using `cv2.findContour()` with specified contour property.\n",
    "    - using `cv2.dnn` with **EAST model** (Efficient accurate scene text detector) \n",
    "- Text Recognition :\n",
    "    - using **Google Tesseract**\n",
    "    - using `cv2.ml` with **SVM algorithm** (support vector machine) "
   ]
  },
  {
   "cell_type": "markdown",
   "metadata": {},
   "source": [
    "### EAST (Efficient accurate scene text detector)\n",
    "- This is a very robust deep learning method for text detection based on this paper. \n",
    "- It is worth mentioning as it is only a text detection method. \n",
    "- It can find horizontal and rotated bounding boxes. \n",
    "- It can be used in combination with any text recognition method.\n",
    "- EAST runs near real-time at **13FPS** on **720p** images with high text detection accuracy. \n",
    "- Implementation is available in **OpenCV 3.4.2** and **OpenCV 4** via **OpenCV DNN**. "
   ]
  },
  {
   "cell_type": "markdown",
   "metadata": {},
   "source": [
    "### OCR with Tesseract\n",
    "- Tesseract was originally developed at Hewlett-Packard Laboratories between 1985 and 1994. \n",
    "- In 2005, it was open-sourced by HP. -wikipedia-\n",
    "- In 2006, Tesseract was considered one of the most accurate open-source OCR engines then available.\n",
    "- Further development in tesseract has been sponsored by Google since 2006.\n"
   ]
  },
  {
   "cell_type": "markdown",
   "metadata": {},
   "source": [
    "### Prepare Tesseract\n",
    "- Download & Install Tesseract Software from https://tesseract-ocr.github.io/tessdoc/Downloads\n",
    "- Install library tesseract in anaconda: <br>\n",
    "    `conda install tesseract`"
   ]
  },
  {
   "cell_type": "code",
   "execution_count": null,
   "metadata": {},
   "outputs": [],
   "source": []
  }
 ],
 "metadata": {
  "kernelspec": {
   "display_name": "Python [conda env:opencv_env]",
   "language": "python",
   "name": "conda-env-opencv_env-py"
  },
  "language_info": {
   "codemirror_mode": {
    "name": "ipython",
    "version": 3
   },
   "file_extension": ".py",
   "mimetype": "text/x-python",
   "name": "python",
   "nbconvert_exporter": "python",
   "pygments_lexer": "ipython3",
   "version": "3.8.5"
  }
 },
 "nbformat": 4,
 "nbformat_minor": 4
}
